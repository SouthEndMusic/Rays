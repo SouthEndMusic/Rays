{
 "cells": [
  {
   "cell_type": "code",
   "execution_count": 1,
   "metadata": {},
   "outputs": [],
   "source": [
    "using Rays\n",
    "using CUDA\n",
    "using CUDAKernels\n",
    "using KernelAbstractions\n",
    "using Cthulhu\n",
    "\n",
    "import Adapt"
   ]
  },
  {
   "cell_type": "code",
   "execution_count": 2,
   "metadata": {},
   "outputs": [
    {
     "data": {
      "text/plain": [
       "Rays.Camera{CuArray{Float32, 1, CUDA.Mem.DeviceBuffer}, CuArray{Int64, 1, CUDA.Mem.DeviceBuffer}}(Float32[0.0, 0.0, 0.0], Float32[1.0, 0.0, 0.0], Float32[0.0, 0.0, 1.0], Float32[0.0, -1.0, 0.0], Float32[0.1, 0.1], Float32[0.1], [100, 100])"
      ]
     },
     "metadata": {},
     "output_type": "display_data"
    }
   ],
   "source": [
    "Adapt.@adapt_structure Rays.Camera\n",
    "\n",
    "camera = Rays.Camera()\n",
    "camera = Rays.Camera([CuArray(getfield(camera,f)) for f in fieldnames(Rays.Camera)]...)"
   ]
  },
  {
   "cell_type": "code",
   "execution_count": 3,
   "metadata": {},
   "outputs": [
    {
     "data": {
      "text/plain": [
       "shape_view! (generic function with 1 method)"
      ]
     },
     "metadata": {},
     "output_type": "display_data"
    }
   ],
   "source": [
    "@kernel function shape_view_kernel!(camera, shape, data)::Nothing\n",
    "    pixel_indices = @index(Global, NTuple)\n",
    "    V = typeof(camera.loc)\n",
    "\n",
    "    ray_loc = @private V 3\n",
    "    ray_dir = @private V 3\n",
    "    \n",
    "    Rays.set_ray!(ray_loc, ray_dir)\n",
    "    # ray_loc, ray_dir = get_ray(camera, pixel_indices)\n",
    "    # ray = Ryas.Ray(get_ray)\n",
    "    # int_data = intersect(ray, shape)\n",
    "\n",
    "    # println(pixel_indices)\n",
    "\n",
    "    # for data_name in keys(data)\n",
    "    #     getfield(data)[pixel_indices...] = getfield(int_data, data_name)\n",
    "    # end\n",
    "\n",
    "    data.t_int[pixel_indices...] = 1.0\n",
    "\n",
    "    nothing\n",
    "end\n",
    "\n",
    "function shape_view!(\n",
    "    data::NamedTuple,\n",
    "    camera::Rays.Camera,\n",
    "    shape::Rays.Shape)::Nothing\n",
    "\n",
    "    device = KernelAbstractions.get_device(camera.loc)\n",
    "    screen_res = collect(camera.screen_res)\n",
    "\n",
    "    @assert :t_int in keys(data) \"data NamedTuple must at least have a key :t_int.\"\n",
    "\n",
    "    for (data_name, data_array) in pairs(data)\n",
    "        @assert device == KernelAbstractions.get_device(data_array) \"Array for $data_name data is not on the same device as the camera.\"\n",
    "        @assert all(size(data_array) .== screen_res) \"Array for $data_name data does not have the same resolution as the camera.\"\n",
    "    end\n",
    "\n",
    "    n = device isa GPU ? 256 : 4\n",
    "    kernel = shape_view_kernel!(device, n)\n",
    "    ev = kernel(\n",
    "        camera, shape, data; ndrange = Tuple(screen_res)\n",
    "    )\n",
    "    wait(ev)\n",
    "\n",
    "    return nothing\n",
    "end"
   ]
  },
  {
   "cell_type": "code",
   "execution_count": 6,
   "metadata": {},
   "outputs": [
    {
     "name": "stdout",
     "output_type": "stream",
     "text": [
      "PTX CompilerJob of kernel #gpu_shape_view_kernel!(KernelAbstractions.CompilerMetadata{KernelAbstractions.NDIteration.DynamicSize, KernelAbstractions.NDIteration.DynamicCheck, Nothing, CartesianIndices{2, Tuple{Base.OneTo{Int64}, Base.OneTo{Int64}}}, KernelAbstractions.NDIteration.NDRange{2, KernelAbstractions.NDIteration.DynamicSize, KernelAbstractions.NDIteration.StaticSize{(256, 1)}, CartesianIndices{2, Tuple{Base.OneTo{Int64}, Base.OneTo{Int64}}}, Nothing}}, Rays.Camera{CuDeviceVector{Float32, 1}, CuDeviceVector{Int64, 1}}, Rays.Cube{CuDeviceVector{Float32, 1}}, NamedTuple{(:t_int, :dim_int), Tuple{CuDeviceMatrix{Float32, 1}, CuDeviceMatrix{Int64, 1}}}) for sm_75, maxthreads=256\n",
      "\n"
     ]
    },
    {
     "name": "stdout",
     "output_type": "stream",
     "text": [
      "MethodInstance for gpu_shape_view_kernel!(::"
     ]
    },
    {
     "name": "stdout",
     "output_type": "stream",
     "text": [
      "KernelAbstractions.CompilerMetadata{KernelAbstractions.NDIteration.DynamicSize, KernelAbstractions.NDIteration.DynamicCheck, Nothing, CartesianIndices{2, Tuple{Base.OneTo{Int64}, Base.OneTo{Int64}}}, KernelAbstractions.NDIteration.NDRange{2, KernelAbstractions.NDIteration.DynamicSize, KernelAbstractions.NDIteration.StaticSize{(256, 1)}, CartesianIndices{2, Tuple{Base.OneTo{Int64}, Base.OneTo{Int64}}}, Nothing}}, ::Rays.Camera{CuDeviceVector{Float32, 1}, CuDeviceVector{Int64, 1}}, ::Rays.Cube{CuDeviceVector{Float32, 1}}, ::NamedTuple{(:t_int, :dim_int), Tuple{CuDeviceMatrix{Float32, 1}, CuDeviceMatrix{Int64, 1}}})\n",
      "  from gpu_shape_view_kernel!(\u001b[90m__ctx__\u001b[39m, \u001b[90mcamera\u001b[39m, \u001b[90mshape\u001b[39m, \u001b[90mdata\u001b[39m)\u001b[90m @\u001b[39m \u001b[90mMain\u001b[39m \u001b[90m\u001b[4mnone:0\u001b[24m\u001b[39m\n",
      "Arguments\n",
      "  #self#"
     ]
    },
    {
     "name": "stdout",
     "output_type": "stream",
     "text": [
      "\u001b[36m::Core.Const(gpu_shape_view_kernel!)\u001b[39m\n",
      "  __ctx__\u001b[36m::KernelAbstractions.CompilerMetadata{KernelAbstractions.NDIteration.DynamicSize, KernelAbstractions.NDIteration.DynamicCheck, Nothing, CartesianIndices{2, Tuple{Base.OneTo{Int64}, Base.OneTo{Int64}}}, KernelAbstractions.NDIteration.NDRange{2, KernelAbstractions.NDIteration.DynamicSize, KernelAbstractions.NDIteration.StaticSize{(256, 1)}, CartesianIndices{2, Tuple{Base.OneTo{Int64}, Base.OneTo{Int64}}}, Nothing}}\u001b[39m\n",
      "  camera\u001b[36m::Rays.Camera{CuDeviceVector{Float32, 1}, CuDeviceVector{Int64, 1}}\u001b[39m\n",
      "  shape\u001b[36m::Rays.Cube{CuDeviceVector{Float32, 1}}\u001b[39m\n",
      "  data\u001b[36m::NamedTuple{(:t_int, :dim_int), Tuple{CuDeviceMatrix{Float32, 1}, CuDeviceMatrix{Int64, 1}}}\u001b[39m\n",
      "Locals\n",
      "  ray_dir\u001b[36m::StaticArraysCore.MVector{3, CuDeviceVector{Float32, 1}}\u001b[39m\n",
      "  ray_loc\u001b[36m::StaticArraysCore.MVector{3, CuDeviceVector{Float32, 1}}\u001b[39m\n",
      "  V\u001b[36m::Type{CuDeviceVector{Float32, 1}}\u001b[39m\n",
      "  pixel_indices\u001b[36m::Tuple{Int64, Int64}\u001b[39m\n",
      "Body\u001b[36m::Nothing\u001b[39m\n"
     ]
    },
    {
     "name": "stdout",
     "output_type": "stream",
     "text": [
      "\u001b[90m1 ─\u001b[39m %1  = Main.Nothing"
     ]
    },
    {
     "name": "stdout",
     "output_type": "stream",
     "text": [
      "\u001b[36m::Core.Const(Nothing)\u001b[39m\n",
      "\u001b[90m│  \u001b[39m       "
     ]
    },
    {
     "name": "stdout",
     "output_type": "stream",
     "text": [
      "Core.NewvarNode"
     ]
    },
    {
     "name": "stdout",
     "output_type": "stream",
     "text": [
      "(:(ray_dir))\n",
      "\u001b[90m│  \u001b[39m       Core.NewvarNode(:(ray_loc))\n",
      "\u001b[90m│  \u001b[39m       Core.NewvarNode(:(V))\n",
      "\u001b[90m│  \u001b[39m       Core.NewvarNode(:(pixel_indices))\n",
      "\u001b[90m│  \u001b[39m %6  = "
     ]
    },
    {
     "name": "stdout",
     "output_type": "stream",
     "text": [
      "(KernelAbstractions.__validindex)(__ctx__)\u001b[36m::Bool\u001b[39m\n",
      "\u001b[90m└──\u001b[39m       goto #3 if not %6\n",
      "\u001b[90m2 ─\u001b[39m       (pixel_indices = KernelAbstractions.__index_Global_NTuple(__ctx__))\n",
      "\u001b[90m│  \u001b[39m %9  = Base.getproperty(camera, :loc)\u001b[36m::CuDeviceVector{Float32, 1}\u001b[39m\n",
      "\u001b[90m│  \u001b[39m       (V = Main.typeof(%9))\n",
      "\u001b[90m│  \u001b[39m %11 = V\u001b[36m::Core.Const(CuDeviceVector{Float32, 1})\u001b[39m\n",
      "\u001b[90m│  \u001b[39m %12 = KernelAbstractions.Val"
     ]
    },
    {
     "name": "stdout",
     "output_type": "stream",
     "text": [
      "((3,))\u001b[36m::Core.Const(Val{(3,)}())\u001b[39m\n",
      "\u001b[90m│  \u001b[39m       (ray_loc = (KernelAbstractions.Scratchpad)(__ctx__, %11, %12))\n",
      "\u001b[90m│  \u001b[39m %14 = V\u001b[36m::Core.Const(CuDeviceVector{Float32, 1})\u001b[39m\n",
      "\u001b[90m│  \u001b[39m %15 = KernelAbstractions.Val((3,))\u001b[36m::Core.Const(Val{(3,)}())\u001b[39m\n",
      "\u001b[90m│  \u001b[39m       (ray_dir = (KernelAbstractions.Scratchpad)(__ctx__, %14, %15))\n",
      "\u001b[90m│  \u001b[39m %17 = Rays.set_ray!\u001b[36m::Core.Const(Rays.set_ray!)\u001b[39m\n",
      "\u001b[90m│  \u001b[39m %18 = ray_loc\u001b[36m::StaticArraysCore.MVector{3, CuDeviceVector{Float32, 1}}\u001b[39m\n",
      "\u001b[90m│  \u001b[39m       (%17)(%18, ray_dir)"
     ]
    },
    {
     "name": "stdout",
     "output_type": "stream",
     "text": [
      "\n",
      "\u001b[90m│  \u001b[39m       Core.Const(:(pixel_indices))\n",
      "\u001b[90m│  \u001b[39m       Core.Const(:(Base.getproperty(data, :t_int)))\n",
      "\u001b[90m│  \u001b[39m       Core.Const(:(Core.tuple(%21, 1.0)))\n",
      "\u001b[90m│  \u001b[39m       Core.Const(:(Core._apply_iterate(Base.iterate, Base.setindex!, %22, %20)))\n",
      "\u001b[90m└──\u001b[39m       Core.Const(:(Main.nothing))\n",
      "\u001b[90m3 ┄\u001b[39m %25 = Base.convert(%1, Main.nothing)\u001b[36m::Core.Const(nothing)\u001b[39m\n",
      "\u001b[90m│  \u001b[39m %26 = Core.typeassert(%25, %1)\u001b[36m::Core.Const(nothing)\u001b[39m\n",
      "\u001b[90m└──\u001b[39m       return %26\n"
     ]
    },
    {
     "name": "stdout",
     "output_type": "stream",
     "text": [
      "\n"
     ]
    },
    {
     "ename": "GPUCompiler.InvalidIRError",
     "evalue": "InvalidIRError: compiling kernel #gpu_shape_view_kernel!(KernelAbstractions.CompilerMetadata{KernelAbstractions.NDIteration.DynamicSize, KernelAbstractions.NDIteration.DynamicCheck, Nothing, CartesianIndices{2, Tuple{Base.OneTo{Int64}, Base.OneTo{Int64}}}, KernelAbstractions.NDIteration.NDRange{2, KernelAbstractions.NDIteration.DynamicSize, KernelAbstractions.NDIteration.StaticSize{(256, 1)}, CartesianIndices{2, Tuple{Base.OneTo{Int64}, Base.OneTo{Int64}}}, Nothing}}, Rays.Camera{CuDeviceVector{Float32, 1}, CuDeviceVector{Int64, 1}}, Rays.Cube{CuDeviceVector{Float32, 1}}, NamedTuple{(:t_int, :dim_int), Tuple{CuDeviceMatrix{Float32, 1}, CuDeviceMatrix{Int64, 1}}}) resulted in invalid LLVM IR\nReason: unsupported dynamic function invocation (call to set_ray!)\nStacktrace:\n [1] macro expansion\n   @ c:\\Users\\bart1\\Documents\\Julia_projects\\Rays\\examples\\Parallel.ipynb:8\n [2] gpu_shape_view_kernel!\n   @ C:\\Users\\bart1\\.julia\\packages\\KernelAbstractions\\C8flJ\\src\\macros.jl:81\n [3] gpu_shape_view_kernel!\n   @ .\\none:0\nHint: catch this exception as `err` and call `code_typed(err; interactive = true)` to introspect the erronous code with Cthulhu.jl",
     "output_type": "error",
     "traceback": [
      "InvalidIRError: compiling kernel #gpu_shape_view_kernel!(KernelAbstractions.CompilerMetadata{KernelAbstractions.NDIteration.DynamicSize, KernelAbstractions.NDIteration.DynamicCheck, Nothing, CartesianIndices{2, Tuple{Base.OneTo{Int64}, Base.OneTo{Int64}}}, KernelAbstractions.NDIteration.NDRange{2, KernelAbstractions.NDIteration.DynamicSize, KernelAbstractions.NDIteration.StaticSize{(256, 1)}, CartesianIndices{2, Tuple{Base.OneTo{Int64}, Base.OneTo{Int64}}}, Nothing}}, Rays.Camera{CuDeviceVector{Float32, 1}, CuDeviceVector{Int64, 1}}, Rays.Cube{CuDeviceVector{Float32, 1}}, NamedTuple{(:t_int, :dim_int), Tuple{CuDeviceMatrix{Float32, 1}, CuDeviceMatrix{Int64, 1}}}) resulted in invalid LLVM IR\n",
      "Reason: unsupported dynamic function invocation (call to set_ray!)\n",
      "Stacktrace:\n",
      " [1] macro expansion\n",
      "   @ c:\\Users\\bart1\\Documents\\Julia_projects\\Rays\\examples\\Parallel.ipynb:8\n",
      " [2] gpu_shape_view_kernel!\n",
      "   @ C:\\Users\\bart1\\.julia\\packages\\KernelAbstractions\\C8flJ\\src\\macros.jl:81\n",
      " [3] gpu_shape_view_kernel!\n",
      "   @ .\\none:0\n",
      "Hint: catch this exception as `err` and call `code_typed(err; interactive = true)` to introspect the erronous code with Cthulhu.jl\n",
      "\n",
      "Stacktrace:\n",
      "  [1] check_ir(job::GPUCompiler.CompilerJob{GPUCompiler.PTXCompilerTarget, CUDA.CUDACompilerParams, GPUCompiler.FunctionSpec{typeof(gpu_shape_view_kernel!), Tuple{KernelAbstractions.CompilerMetadata{KernelAbstractions.NDIteration.DynamicSize, KernelAbstractions.NDIteration.DynamicCheck, Nothing, CartesianIndices{2, Tuple{Base.OneTo{Int64}, Base.OneTo{Int64}}}, KernelAbstractions.NDIteration.NDRange{2, KernelAbstractions.NDIteration.DynamicSize, KernelAbstractions.NDIteration.StaticSize{(256, 1)}, CartesianIndices{2, Tuple{Base.OneTo{Int64}, Base.OneTo{Int64}}}, Nothing}}, Rays.Camera{CuDeviceVector{Float32, 1}, CuDeviceVector{Int64, 1}}, Rays.Cube{CuDeviceVector{Float32, 1}}, NamedTuple{(:t_int, :dim_int), Tuple{CuDeviceMatrix{Float32, 1}, CuDeviceMatrix{Int64, 1}}}}}}, args::LLVM.Module)\n",
      "    @ GPUCompiler C:\\Users\\bart1\\.julia\\packages\\GPUCompiler\\S3TWf\\src\\validation.jl:141\n",
      "  [2] macro expansion\n",
      "    @ C:\\Users\\bart1\\.julia\\packages\\GPUCompiler\\S3TWf\\src\\driver.jl:418 [inlined]\n",
      "  [3] macro expansion\n",
      "    @ C:\\Users\\bart1\\.julia\\packages\\TimerOutputs\\RsWnF\\src\\TimerOutput.jl:253 [inlined]\n",
      "  [4] macro expansion\n",
      "    @ C:\\Users\\bart1\\.julia\\packages\\GPUCompiler\\S3TWf\\src\\driver.jl:417 [inlined]\n",
      "  [5] emit_llvm(job::GPUCompiler.CompilerJob, method_instance::Any; libraries::Bool, deferred_codegen::Bool, optimize::Bool, cleanup::Bool, only_entry::Bool, validate::Bool, ctx::LLVM.ThreadSafeContext)\n",
      "    @ GPUCompiler C:\\Users\\bart1\\.julia\\packages\\GPUCompiler\\S3TWf\\src\\utils.jl:83\n",
      "  [6] emit_llvm\n",
      "    @ C:\\Users\\bart1\\.julia\\packages\\GPUCompiler\\S3TWf\\src\\utils.jl:77 [inlined]\n",
      "  [7] cufunction_compile(job::GPUCompiler.CompilerJob, ctx::LLVM.ThreadSafeContext)\n",
      "    @ CUDA C:\\Users\\bart1\\.julia\\packages\\CUDA\\ZdCxS\\src\\compiler\\execution.jl:360\n",
      "  [8] #221\n",
      "    @ C:\\Users\\bart1\\.julia\\packages\\CUDA\\ZdCxS\\src\\compiler\\execution.jl:354 [inlined]\n",
      "  [9] LLVM.ThreadSafeContext(f::CUDA.var\"#221#222\"{GPUCompiler.CompilerJob{GPUCompiler.PTXCompilerTarget, CUDA.CUDACompilerParams, GPUCompiler.FunctionSpec{typeof(gpu_shape_view_kernel!), Tuple{KernelAbstractions.CompilerMetadata{KernelAbstractions.NDIteration.DynamicSize, KernelAbstractions.NDIteration.DynamicCheck, Nothing, CartesianIndices{2, Tuple{Base.OneTo{Int64}, Base.OneTo{Int64}}}, KernelAbstractions.NDIteration.NDRange{2, KernelAbstractions.NDIteration.DynamicSize, KernelAbstractions.NDIteration.StaticSize{(256, 1)}, CartesianIndices{2, Tuple{Base.OneTo{Int64}, Base.OneTo{Int64}}}, Nothing}}, Rays.Camera{CuDeviceVector{Float32, 1}, CuDeviceVector{Int64, 1}}, Rays.Cube{CuDeviceVector{Float32, 1}}, NamedTuple{(:t_int, :dim_int), Tuple{CuDeviceMatrix{Float32, 1}, CuDeviceMatrix{Int64, 1}}}}}}})\n",
      "    @ LLVM C:\\Users\\bart1\\.julia\\packages\\LLVM\\HykgZ\\src\\executionengine\\ts_module.jl:14\n",
      " [10] JuliaContext(f::CUDA.var\"#221#222\"{GPUCompiler.CompilerJob{GPUCompiler.PTXCompilerTarget, CUDA.CUDACompilerParams, GPUCompiler.FunctionSpec{typeof(gpu_shape_view_kernel!), Tuple{KernelAbstractions.CompilerMetadata{KernelAbstractions.NDIteration.DynamicSize, KernelAbstractions.NDIteration.DynamicCheck, Nothing, CartesianIndices{2, Tuple{Base.OneTo{Int64}, Base.OneTo{Int64}}}, KernelAbstractions.NDIteration.NDRange{2, KernelAbstractions.NDIteration.DynamicSize, KernelAbstractions.NDIteration.StaticSize{(256, 1)}, CartesianIndices{2, Tuple{Base.OneTo{Int64}, Base.OneTo{Int64}}}, Nothing}}, Rays.Camera{CuDeviceVector{Float32, 1}, CuDeviceVector{Int64, 1}}, Rays.Cube{CuDeviceVector{Float32, 1}}, NamedTuple{(:t_int, :dim_int), Tuple{CuDeviceMatrix{Float32, 1}, CuDeviceMatrix{Int64, 1}}}}}}})\n",
      "    @ GPUCompiler C:\\Users\\bart1\\.julia\\packages\\GPUCompiler\\S3TWf\\src\\driver.jl:74\n",
      " [11] cufunction_compile(job::GPUCompiler.CompilerJob)\n",
      "    @ CUDA C:\\Users\\bart1\\.julia\\packages\\CUDA\\ZdCxS\\src\\compiler\\execution.jl:353\n",
      " [12] cached_compilation(cache::Dict{UInt64, Any}, job::GPUCompiler.CompilerJob, compiler::typeof(CUDA.cufunction_compile), linker::typeof(CUDA.cufunction_link))\n",
      "    @ GPUCompiler C:\\Users\\bart1\\.julia\\packages\\GPUCompiler\\S3TWf\\src\\cache.jl:90\n",
      " [13] cufunction(f::typeof(gpu_shape_view_kernel!), tt::Type{Tuple{KernelAbstractions.CompilerMetadata{KernelAbstractions.NDIteration.DynamicSize, KernelAbstractions.NDIteration.DynamicCheck, Nothing, CartesianIndices{2, Tuple{Base.OneTo{Int64}, Base.OneTo{Int64}}}, KernelAbstractions.NDIteration.NDRange{2, KernelAbstractions.NDIteration.DynamicSize, KernelAbstractions.NDIteration.StaticSize{(256, 1)}, CartesianIndices{2, Tuple{Base.OneTo{Int64}, Base.OneTo{Int64}}}, Nothing}}, Rays.Camera{CuDeviceVector{Float32, 1}, CuDeviceVector{Int64, 1}}, Rays.Cube{CuDeviceVector{Float32, 1}}, NamedTuple{(:t_int, :dim_int), Tuple{CuDeviceMatrix{Float32, 1}, CuDeviceMatrix{Int64, 1}}}}}; name::Nothing, always_inline::Bool, kwargs::Base.Pairs{Symbol, Int64, Tuple{Symbol}, NamedTuple{(:maxthreads,), Tuple{Int64}}})\n",
      "    @ CUDA C:\\Users\\bart1\\.julia\\packages\\CUDA\\ZdCxS\\src\\compiler\\execution.jl:306\n",
      " [14] macro expansion\n",
      "    @ C:\\Users\\bart1\\.julia\\packages\\CUDA\\ZdCxS\\src\\compiler\\execution.jl:102 [inlined]\n",
      " [15] (::KernelAbstractions.Kernel{CUDADevice{false, false}, KernelAbstractions.NDIteration.StaticSize{(256,)}, KernelAbstractions.NDIteration.DynamicSize, typeof(gpu_shape_view_kernel!)})(::Rays.Camera{CuArray{Float32, 1, CUDA.Mem.DeviceBuffer}, CuArray{Int64, 1, CUDA.Mem.DeviceBuffer}}, ::Vararg{Any}; ndrange::Tuple{Int64, Int64}, dependencies::CUDAKernels.CudaEvent, workgroupsize::Nothing, progress::Function)\n",
      "    @ CUDAKernels C:\\Users\\bart1\\.julia\\packages\\CUDAKernels\\3IKLV\\src\\CUDAKernels.jl:283\n",
      " [16] shape_view!(data::NamedTuple{(:t_int, :dim_int), Tuple{CuArray{Float32, 2, CUDA.Mem.DeviceBuffer}, CuArray{Int64, 2, CUDA.Mem.DeviceBuffer}}}, camera::Rays.Camera{CuArray{Float32, 1, CUDA.Mem.DeviceBuffer}, CuArray{Int64, 1, CUDA.Mem.DeviceBuffer}}, shape::Rays.Cube{CuArray{Float32, 1, CUDA.Mem.DeviceBuffer}})\n",
      "    @ Main c:\\Users\\bart1\\Documents\\Julia_projects\\Rays\\examples\\Parallel.ipynb:41\n",
      " [17] top-level scope\n",
      "    @ C:\\Users\\bart1\\.julia\\packages\\GPUCompiler\\S3TWf\\src\\reflection.jl:205"
     ]
    }
   ],
   "source": [
    "Adapt.@adapt_structure Rays.Cube\n",
    "Adapt.@adapt_structure Rays.Ray\n",
    "\n",
    "cube = Rays.Cube(CUDA.zeros(Float32, 3), 1.0)\n",
    "t_int = CUDA.zeros(Float32, collect(camera.screen_res)...)\n",
    "dim_int = CUDA.zeros(Int, collect(camera.screen_res)...)\n",
    "data = (; t_int, dim_int)\n",
    "try\n",
    "    @device_code_warntype shape_view!(data, camera, cube)\n",
    "catch err\n",
    "    code_typed(err; interactive = true)\n",
    "end"
   ]
  },
  {
   "cell_type": "code",
   "execution_count": 5,
   "metadata": {},
   "outputs": [
    {
     "data": {
      "text/plain": [
       "1-element Vector{Float32}:\n",
       " 0.0"
      ]
     },
     "metadata": {},
     "output_type": "display_data"
    }
   ],
   "source": [
    "# using Images: colorview, Gray\n",
    "\n",
    "# canvas_grayscale = Rays.cam_is_source(collect(t_int))\n",
    "# colorview(Gray, canvas_grayscale)\n",
    "\n",
    "unique(collect(t_int))"
   ]
  }
 ],
 "metadata": {
  "kernelspec": {
   "display_name": "Julia 1.9.3",
   "language": "julia",
   "name": "julia-1.9"
  },
  "language_info": {
   "file_extension": ".jl",
   "mimetype": "application/julia",
   "name": "julia",
   "version": "1.9.3"
  },
  "orig_nbformat": 4
 },
 "nbformat": 4,
 "nbformat_minor": 2
}

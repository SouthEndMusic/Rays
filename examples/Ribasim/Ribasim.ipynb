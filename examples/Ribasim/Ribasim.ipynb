{
 "cells": [
  {
   "cell_type": "code",
   "execution_count": 417,
   "metadata": {},
   "outputs": [],
   "source": [
    "using Rays\n",
    "using GeoDataFrames\n",
    "using GeoInterface: coordinates"
   ]
  },
  {
   "cell_type": "markdown",
   "metadata": {},
   "source": [
    "## Load Ribasim model data"
   ]
  },
  {
   "cell_type": "code",
   "execution_count": 418,
   "metadata": {},
   "outputs": [],
   "source": [
    "gpkg_path = normpath(@__DIR__, \"generated_testmodels/basic/database.gpkg\")\n",
    "node_rows = GeoDataFrames.read(gpkg_path, \"Node\");\n",
    "edge_rows = GeoDataFrames.read(gpkg_path, \"Edge\");"
   ]
  },
  {
   "cell_type": "markdown",
   "metadata": {},
   "source": [
    "## Define Scene"
   ]
  },
  {
   "cell_type": "code",
   "execution_count": 419,
   "metadata": {},
   "outputs": [],
   "source": [
    "scene = Rays.Scene()\n",
    "\n",
    "# Define a camera\n",
    "camera = Rays.Camera(; screen_res = [500, 1000], screen_size = [0.1, 0.2])\n",
    "push!(scene, camera)\n",
    "\n",
    "# Let the camera look towards the origin\n",
    "from = Float32[3, -3, 1]\n",
    "to = zeros(Float32, 3)\n",
    "Rays.look_at!(camera, from, to)"
   ]
  },
  {
   "cell_type": "markdown",
   "metadata": {},
   "source": [
    "## Add nodes"
   ]
  },
  {
   "cell_type": "code",
   "execution_count": 420,
   "metadata": {},
   "outputs": [
    {
     "ename": "UndefVarError",
     "evalue": "UndefVarError: `set_default_dropoff_curve!` not defined",
     "output_type": "error",
     "traceback": [
      "UndefVarError: `set_default_dropoff_curve!` not defined\n",
      "\n",
      "Stacktrace:\n",
      " [1] getproperty(x::Module, f::Symbol)\n",
      "   @ Base .\\Base.jl:31\n",
      " [2] top-level scope\n",
      "   @ c:\\Users\\bart1\\Documents\\Julia_projects\\Rays\\examples\\Ribasim\\Ribasim.ipynb:61"
     ]
    }
   ],
   "source": [
    "node_size = 0.1f0\n",
    "\n",
    "shape_dict = Dict(\n",
    "    \"Basin\" => Rays.Sphere(node_size),\n",
    "    \"FractionalFlow\" => Rays.Tetrahedron(1.5f0*node_size),\n",
    "    \"LevelBoundary\" => Rays.Sphere(node_size),\n",
    "    \"LinearResistance\" => Rays.Tetrahedron(1.5f0*node_size),\n",
    "    \"ManningResistance\" => Rays.Cube(node_size),\n",
    "    \"TabulatedRatingCurve\" => Rays.Cube(node_size),\n",
    "    # Pump: Hexagon\n",
    "    # Outlet: Hexagon\n",
    "    \"Terminal\" => Rays.Cube(node_size),\n",
    "    # FlowBoundary: Hexagon\n",
    "    # DiscreteControl: *\n",
    "    # PidControl: x\n",
    "    \"User\" => Rays.Cube(node_size)\n",
    ")\n",
    "shape_default = Rays.Sphere(node_size)\n",
    "\n",
    "rotation_dict = Dict(\n",
    "    \"ManningResistance\" => Rays.rotation(Float32[0, 0, 1], Float32(π/4)),\n",
    "    \"TabulatedRatingCurve\" => Rays.rotation(Float32[0, 0, 1], Float32(π/4)),\n",
    "    \"FractionalFlow\" => Rays.rotation(Float32[0, 0, 1], Float32(π/2)),\n",
    "    \"LinearResistance\" => Rays.rotation(Float32[0, 0, 1], Float32(π/2)),\n",
    ")\n",
    "rotation_default = Rays.identity_transform(Float32)\n",
    "\n",
    "texture_dict = Dict(\n",
    "    \"Basin\" => Rays.UniformTexture(Float32[0, 0, 1]),\n",
    "    \"FractionalFlow\" => Rays.UniformTexture(Float32[1, 0, 0]),\n",
    "    \"LevelBoundary\" => Rays.UniformTexture(Float32[0, 1, 0]),\n",
    "    \"LinearResistance\" => Rays.UniformTexture(Float32[0, 1, 0]),\n",
    "    \"ManningResistance\" => Rays.UniformTexture(Float32[1, 0, 0]),\n",
    "    \"TabulatedRatingCurve\" => Rays.UniformTexture(Float32[0, 1, 0]),\n",
    "    \"Pump\" => Rays.UniformTexture(Float32[0.5, 0.5, 0.5]),\n",
    "    \"Outlet\" => Rays.UniformTexture(Float32[0, 1, 0]),\n",
    "    \"Terminal\" => Rays.UniformTexture(Float32[0.7, 0.0, 0.7]),\n",
    "    \"FlowBoundary\" => Rays.UniformTexture(Float32[0.7, 0.0, 0.7]),\n",
    "    \"DiscreteControl\" => Rays.UniformTexture(Float32[0.1, 0.1, 0.1]),\n",
    "    \"PidControl\" => Rays.UniformTexture(Float32[0.1, 0.1, 0.1]),\n",
    "    \"User\" => Rays.UniformTexture(Float32[0, 1, 0]),\n",
    ")\n",
    "texture_default = Rays.UniformTexture(Float32[1, 1, 1])\n",
    "\n",
    "for row in eachrow(node_rows)\n",
    "    node_shape = get(shape_dict, row.type, shape_default)\n",
    "    translation = Rays.translation(Float32[coordinates(row.geom)..., 0.0])\n",
    "    rotation = get(rotation_dict, row.type, rotation_default)\n",
    "    transform = translation * rotation\n",
    "    texture = get(texture_dict, row.type, texture_default)\n",
    "    push!(scene, node_shape; transform, texture)\n",
    "end\n",
    "\n",
    "center = sum([transform.translation for transform in values(scene.transforms) if !ismissing(transform.translation)])/length(scene.transforms)\n",
    "centering = Rays.translation(-center)\n",
    "\n",
    "for (shape_name, transform) in scene.transforms\n",
    "    Rays.set_transform!(scene, shape_name, centering * transform)\n",
    "end\n",
    "\n",
    "Rays.set_dropoff_curve_default!(scene, camera)"
   ]
  },
  {
   "cell_type": "markdown",
   "metadata": {},
   "source": [
    "## Add edges"
   ]
  },
  {
   "cell_type": "code",
   "execution_count": 421,
   "metadata": {},
   "outputs": [],
   "source": [
    "using LinearAlgebra: norm\n",
    "\n",
    "r_edge = 0.02f0\n",
    "rotation_z_to_x = Rays.rotation(Float32[0, 1, 0], Float32(π/2))\n",
    "\n",
    "for row in eachrow(edge_rows)\n",
    "    node_locs = coordinates(row.geom)\n",
    "    diff = node_locs[2] - node_locs[1]\n",
    "    edge_length::Float32 = norm(diff)\n",
    "    edge_angle::Float32 = atan(diff[2], diff[1])\n",
    "    rotation = Rays.rotation(Float32[0,0, 1], edge_angle) * rotation_z_to_x\n",
    "    translation = Rays.translation(Float32[node_locs[1]..., 0.0] - center)\n",
    "    transform = translation * rotation\n",
    "    edge = Rays.RevolutionSurface(\n",
    "        z -> r_edge,\n",
    "        r_edge + 1f-2,\n",
    "        0.0f0,\n",
    "        edge_length,\n",
    "    )\n",
    "    push!(scene, edge; transform)\n",
    "end"
   ]
  },
  {
   "cell_type": "markdown",
   "metadata": {},
   "source": [
    "## View result"
   ]
  },
  {
   "cell_type": "code",
   "execution_count": 422,
   "metadata": {},
   "outputs": [],
   "source": [
    "Rays.render!(scene)"
   ]
  },
  {
   "cell_type": "code",
   "execution_count": 423,
   "metadata": {},
   "outputs": [
    {
     "data": {
      "text/plain": [
       "view_canvas (generic function with 1 method)"
      ]
     },
     "metadata": {},
     "output_type": "display_data"
    }
   ],
   "source": [
    "using Images: colorview, RGB, N0f8\n",
    "\n",
    "function view_canvas(camera)\n",
    "    canvas_RGB = RGB{N0f8}.([view(camera.canvas, channel, :, :) for channel = 1:3]...)\n",
    "    colorview(RGB, canvas_RGB)\n",
    "end"
   ]
  },
  {
   "cell_type": "code",
   "execution_count": 424,
   "metadata": {},
   "outputs": [
    {
     "data": {
      "image/png": "[encoded data removed]",
      "text/html": [
       "<img src=\"data:image/png;base64,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\">"
      ],
      "text/plain": [
       "500×1000 Array{RGB{N0f8},2} with eltype RGB{N0f8}:\n",
       " RGB{N0f8}(0.0,0.0,0.0)  RGB{N0f8}(0.0,0.0,0.0)  …  RGB{N0f8}(0.0,0.0,0.0)\n",
       " RGB{N0f8}(0.0,0.0,0.0)  RGB{N0f8}(0.0,0.0,0.0)     RGB{N0f8}(0.0,0.0,0.0)\n",
       " RGB{N0f8}(0.0,0.0,0.0)  RGB{N0f8}(0.0,0.0,0.0)     RGB{N0f8}(0.0,0.0,0.0)\n",
       " RGB{N0f8}(0.0,0.0,0.0)  RGB{N0f8}(0.0,0.0,0.0)     RGB{N0f8}(0.0,0.0,0.0)\n",
       " RGB{N0f8}(0.0,0.0,0.0)  RGB{N0f8}(0.0,0.0,0.0)     RGB{N0f8}(0.0,0.0,0.0)\n",
       " RGB{N0f8}(0.0,0.0,0.0)  RGB{N0f8}(0.0,0.0,0.0)  …  RGB{N0f8}(0.0,0.0,0.0)\n",
       " RGB{N0f8}(0.0,0.0,0.0)  RGB{N0f8}(0.0,0.0,0.0)     RGB{N0f8}(0.0,0.0,0.0)\n",
       " RGB{N0f8}(0.0,0.0,0.0)  RGB{N0f8}(0.0,0.0,0.0)     RGB{N0f8}(0.0,0.0,0.0)\n",
       " RGB{N0f8}(0.0,0.0,0.0)  RGB{N0f8}(0.0,0.0,0.0)     RGB{N0f8}(0.0,0.0,0.0)\n",
       " RGB{N0f8}(0.0,0.0,0.0)  RGB{N0f8}(0.0,0.0,0.0)     RGB{N0f8}(0.0,0.0,0.0)\n",
       " ⋮                                               ⋱  \n",
       " RGB{N0f8}(0.0,0.0,0.0)  RGB{N0f8}(0.0,0.0,0.0)     RGB{N0f8}(0.0,0.0,0.0)\n",
       " RGB{N0f8}(0.0,0.0,0.0)  RGB{N0f8}(0.0,0.0,0.0)     RGB{N0f8}(0.0,0.0,0.0)\n",
       " RGB{N0f8}(0.0,0.0,0.0)  RGB{N0f8}(0.0,0.0,0.0)     RGB{N0f8}(0.0,0.0,0.0)\n",
       " RGB{N0f8}(0.0,0.0,0.0)  RGB{N0f8}(0.0,0.0,0.0)     RGB{N0f8}(0.0,0.0,0.0)\n",
       " RGB{N0f8}(0.0,0.0,0.0)  RGB{N0f8}(0.0,0.0,0.0)  …  RGB{N0f8}(0.0,0.0,0.0)\n",
       " RGB{N0f8}(0.0,0.0,0.0)  RGB{N0f8}(0.0,0.0,0.0)     RGB{N0f8}(0.0,0.0,0.0)\n",
       " RGB{N0f8}(0.0,0.0,0.0)  RGB{N0f8}(0.0,0.0,0.0)     RGB{N0f8}(0.0,0.0,0.0)\n",
       " RGB{N0f8}(0.0,0.0,0.0)  RGB{N0f8}(0.0,0.0,0.0)     RGB{N0f8}(0.0,0.0,0.0)\n",
       " RGB{N0f8}(0.0,0.0,0.0)  RGB{N0f8}(0.0,0.0,0.0)     RGB{N0f8}(0.0,0.0,0.0)"
      ]
     },
     "metadata": {},
     "output_type": "display_data"
    }
   ],
   "source": [
    "view_canvas(camera)"
   ]
  }
 ],
 "metadata": {
  "kernelspec": {
   "display_name": "Julia 1.9.3",
   "language": "julia",
   "name": "julia-1.9"
  },
  "language_info": {
   "file_extension": ".jl",
   "mimetype": "application/julia",
   "name": "julia",
   "version": "1.9.3"
  }
 },
 "nbformat": 4,
 "nbformat_minor": 2
}

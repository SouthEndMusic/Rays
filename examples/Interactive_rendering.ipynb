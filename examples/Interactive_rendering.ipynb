{
 "cells": [
  {
   "cell_type": "code",
   "execution_count": 1,
   "metadata": {},
   "outputs": [],
   "source": [
    "using Rays"
   ]
  },
  {
   "cell_type": "markdown",
   "metadata": {},
   "source": [
    "## Creating a scene"
   ]
  },
  {
   "cell_type": "code",
   "execution_count": 2,
   "metadata": {},
   "outputs": [],
   "source": [
    "# Define the scene\n",
    "scene = Rays.Scene()\n",
    "\n",
    "# Define a camera\n",
    "camera = Rays.Camera()\n",
    "camera.screen_res .= [500, 500]\n",
    "push!(scene, camera)\n",
    "\n",
    "# Define a cube at the origin\n",
    "cube = Rays.Cube(zeros(Float32, 3), 1.0f0)\n",
    "push!(scene, cube)"
   ]
  },
  {
   "cell_type": "markdown",
   "metadata": {},
   "source": [
    "## Creating a parameters object"
   ]
  },
  {
   "cell_type": "code",
   "execution_count": 8,
   "metadata": {},
   "outputs": [
    {
     "data": {
      "text/plain": [
       "Params{Float32}(0.7853982f0, 1.1780972f0, 0.0f0, 0.0f0, 10.0f0, Float32[0.22 0.584 0.796; 0.596 0.345 0.235; 0.149 0.698 0.2], [0.0 0.0 … 0.0 0.0; 0.0 0.0 … 0.0 0.0; 0.0 0.0 … 0.0 0.0;;; 0.0 0.0 … 0.0 0.0; 0.0 0.0 … 0.0 0.0; 0.0 0.0 … 0.0 0.0;;; 0.0 0.0 … 0.0 0.0; 0.0 0.0 … 0.0 0.0; 0.0 0.0 … 0.0 0.0;;; … ;;; 0.0 0.0 … 0.0 0.0; 0.0 0.0 … 0.0 0.0; 0.0 0.0 … 0.0 0.0;;; 0.0 0.0 … 0.0 0.0; 0.0 0.0 … 0.0 0.0; 0.0 0.0 … 0.0 0.0;;; 0.0 0.0 … 0.0 0.0; 0.0 0.0 … 0.0 0.0; 0.0 0.0 … 0.0 0.0])"
      ]
     },
     "metadata": {},
     "output_type": "display_data"
    }
   ],
   "source": [
    "julia_green = Float32[0.22, 0.596, 0.149]\n",
    "julia_purple = Float32[0.584, 0.345, 0.698]\n",
    "julia_red = Float32[0.796, 0.235, 0.2]\n",
    "julia_colors = hcat(julia_green, julia_purple, julia_red)\n",
    "color = Rays.get_canvas(camera; color = true)\n",
    "\n",
    "mutable struct Params{F} <: Rays.Parameters{F}\n",
    "    θ::F\n",
    "    ϕ::F\n",
    "    dθ::F\n",
    "    dϕ::F\n",
    "    dist::F\n",
    "    colors::Matrix{F}\n",
    "    color::Array{F,3}\n",
    "end\n",
    "\n",
    "params = Params(Float32(π/4), Float32(3π/8), 0.0f0, 0.0f0, 10.0f0, julia_colors, color)"
   ]
  },
  {
   "cell_type": "markdown",
   "metadata": {},
   "source": [
    "## Creating a parameter update function"
   ]
  },
  {
   "cell_type": "code",
   "execution_count": 9,
   "metadata": {},
   "outputs": [
    {
     "data": {
      "text/plain": [
       "affect_parameters! (generic function with 1 method)"
      ]
     },
     "metadata": {},
     "output_type": "display_data"
    }
   ],
   "source": [
    "import SimpleDirectMediaLayer as SDL\n",
    "\n",
    "function affect_parameters!(params::Params{F}, Δt::F)::Tuple{Bool,Bool} where {F}\n",
    "    event_ref = Ref{SDL.SDL_Event}()\n",
    "    close = false\n",
    "    while Bool(SDL.SDL_PollEvent(event_ref))\n",
    "        event = event_ref[]\n",
    "        event_type = event.type\n",
    "        if event_type == SDL.SDL_QUIT\n",
    "            close = true\n",
    "            break\n",
    "        elseif event_type == SDL.SDL_KEYDOWN\n",
    "            scan_code = event.key.keysym.scancode \n",
    "            if scan_code == SDL.SDL_SCANCODE_RIGHT\n",
    "                params.dθ += 0.5*Δt\n",
    "            elseif scan_code == SDL.SDL_SCANCODE_LEFT\n",
    "                params.dθ -= 0.5*Δt\n",
    "            end\n",
    "        end\n",
    "    end\n",
    "\n",
    "    params.θ += params.dθ * Δt\n",
    "    params.ϕ += params.dϕ * Δt\n",
    "    return true, close\n",
    "end"
   ]
  },
  {
   "cell_type": "markdown",
   "metadata": {},
   "source": [
    "## Creating a rendering function"
   ]
  },
  {
   "cell_type": "code",
   "execution_count": 10,
   "metadata": {},
   "outputs": [
    {
     "data": {
      "text/plain": [
       "get_render (generic function with 1 method)"
      ]
     },
     "metadata": {},
     "output_type": "display_data"
    }
   ],
   "source": [
    "function get_render(scene::Rays.Scene{F}, params::Rays.Parameters{F})::Array{F, 3} where {F <: AbstractFloat}\n",
    "\n",
    "    # Adjust camera\n",
    "    Rays.look_at!(camera, zeros(Float32,3), params.dist, params.θ, params.ϕ)\n",
    "\n",
    "    # Get intersection data\n",
    "    intersection_data = Rays.shape_view(scene; data_variables = [:dim])\n",
    "\n",
    "    # Get grayscale image\n",
    "    canvas_grayscale = Rays.cam_is_source(intersection_data.t);\n",
    "\n",
    "    # Apply color to the image\n",
    "    color .= 0.0\n",
    "    Rays.add_color!(color, julia_colors, intersection_data.dim)\n",
    "    canvas_color = Rays.apply_color(canvas_grayscale, color);\n",
    "\n",
    "    return canvas_color\n",
    "end "
   ]
  },
  {
   "cell_type": "markdown",
   "metadata": {},
   "source": [
    "## Creating an interactor"
   ]
  },
  {
   "cell_type": "code",
   "execution_count": 11,
   "metadata": {},
   "outputs": [
    {
     "data": {
      "text/plain": [
       "Rays.Interactor{Float32}(Ptr{SimpleDirectMediaLayer.LibSDL2.SDL_Window} @0x000001c1b3ad8210, Ptr{SimpleDirectMediaLayer.LibSDL2.SDL_Renderer} @0x000001c1b4029c40, Rays.Scene{Float32}(Rays.Camera{Float32}[Rays.Camera{Float32}(Float32[0.0, 0.0, 0.0], Float32[1.0, 0.0, 0.0], Float32[0.0, 0.0, 1.0], Float32[0.0, -1.0, 0.0], Float32[0.1, 0.1], Float32[0.1], [500, 500], identity)], Rays.Shape{Float32}[Rays.Cube{Float32}(Float32[0.0, 0.0, 0.0], 1.0f0)]), Params{Float32}(0.7853982f0, 1.1780972f0, 0.0f0, 0.0f0, 10.0f0, Float32[0.22 0.584 0.796; 0.596 0.345 0.235; 0.149 0.698 0.2], [0.0 0.0 … 0.0 0.0; 0.0 0.0 … 0.0 0.0; 0.0 0.0 … 0.0 0.0;;; 0.0 0.0 … 0.0 0.0; 0.0 0.0 … 0.0 0.0; 0.0 0.0 … 0.0 0.0;;; 0.0 0.0 … 0.0 0.0; 0.0 0.0 … 0.0 0.0; 0.0 0.0 … 0.0 0.0;;; … ;;; 0.0 0.0 … 0.0 0.0; 0.0 0.0 … 0.0 0.0; 0.0 0.0 … 0.0 0.0;;; 0.0 0.0 … 0.0 0.0; 0.0 0.0 … 0.0 0.0; 0.0 0.0 … 0.0 0.0;;; 0.0 0.0 … 0.0 0.0; 0.0 0.0 … 0.0 0.0; 0.0 0.0 … 0.0 0.0]), get_render, affect_parameters!, Rays.Dtimer{Float32}(0.0f0))"
      ]
     },
     "metadata": {},
     "output_type": "display_data"
    }
   ],
   "source": [
    "interactor = Rays.Interactor(scene, params, affect_parameters!, get_render)"
   ]
  },
  {
   "cell_type": "code",
   "execution_count": 12,
   "metadata": {},
   "outputs": [],
   "source": [
    "Rays.run!(interactor)"
   ]
  }
 ],
 "metadata": {
  "kernelspec": {
   "display_name": "Julia 1.9.3",
   "language": "julia",
   "name": "julia-1.9"
  },
  "language_info": {
   "file_extension": ".jl",
   "mimetype": "application/julia",
   "name": "julia",
   "version": "1.9.3"
  }
 },
 "nbformat": 4,
 "nbformat_minor": 2
}

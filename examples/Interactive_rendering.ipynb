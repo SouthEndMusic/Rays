{
 "cells": [
  {
   "cell_type": "code",
   "execution_count": 17,
   "metadata": {},
   "outputs": [],
   "source": [
    "using Rays"
   ]
  },
  {
   "cell_type": "code",
   "execution_count": 18,
   "metadata": {},
   "outputs": [
    {
     "data": {
      "text/plain": [
       "get_render (generic function with 1 method)"
      ]
     },
     "metadata": {},
     "output_type": "display_data"
    }
   ],
   "source": [
    "using LinearAlgebra: normalize!\n",
    "\n",
    "# Define a camera\n",
    "camera = Rays.Camera()\n",
    "camera.screen_res .= [500, 500]\n",
    "\n",
    "# Let the camera look towards the origin\n",
    "from = Float32[2.0, 2.0, 2.0]\n",
    "to = zeros(Float32, 3)\n",
    "Rays.look_at!(camera, from, to)\n",
    "\n",
    "# Define a cube at the origin\n",
    "cube = Rays.Cube(zeros(Float32, 3), 1.0f0)\n",
    "\n",
    "# Color data\n",
    "data_variables = [:dim]\n",
    "julia_green = Float32[0.22, 0.596, 0.149]\n",
    "julia_purple = Float32[0.584, 0.345, 0.698]\n",
    "julia_red = Float32[0.796, 0.235, 0.2]\n",
    "julia_colors = hcat(julia_green, julia_purple, julia_red)\n",
    "color = Rays.get_canvas(camera; color = true)\n",
    "\n",
    "function get_render(dist, θ, ϕ)::Array{<:AbstractFloat, 3}\n",
    "\n",
    "    # Adjust camera\n",
    "    Rays.look_at!(camera, zeros(Float32,3), dist, θ, ϕ)\n",
    "\n",
    "    # Get intersection data\n",
    "    intersection_data = Rays.shape_view(camera, cube; data_variables)\n",
    "\n",
    "    # Get grayscale image\n",
    "    canvas_grayscale = Rays.cam_is_source(intersection_data.t);\n",
    "\n",
    "    # Apply color to the image\n",
    "    color .= 0.0\n",
    "    Rays.add_color!(color, julia_colors, intersection_data.dim)\n",
    "    canvas_color = Rays.apply_color(canvas_grayscale, color);\n",
    "\n",
    "    return canvas_color\n",
    "end "
   ]
  },
  {
   "cell_type": "markdown",
   "metadata": {},
   "source": [
    "# Using SimpleDirectMediaLayer"
   ]
  },
  {
   "cell_type": "code",
   "execution_count": 19,
   "metadata": {},
   "outputs": [],
   "source": [
    "import SimpleDirectMediaLayer as SDL\n",
    "using SDL2_jll\n",
    "\n",
    "function Base.convert(::Type{SDL.LibSDL2.SDL_bool}, bool::Bool)\n",
    "    return bool ? SDL.SDL_TRUE : SDL.SDL_FALSE\n",
    "end"
   ]
  },
  {
   "cell_type": "code",
   "execution_count": 20,
   "metadata": {},
   "outputs": [
    {
     "data": {
      "text/plain": [
       "set_render! (generic function with 1 method)"
      ]
     },
     "metadata": {},
     "output_type": "display_data"
    }
   ],
   "source": [
    "function set_render!(renderer, dist, θ, ϕ)::Nothing\n",
    "    render = convert.(UInt8, round.(255 .* get_render(dist, θ, ϕ)))\n",
    "    render = permutedims(render, [1,3,2])\n",
    "    depth = 24\n",
    "    pitch = sizeof(eltype(render)) * 3 * size(render)[2]\n",
    "    surface = SDL.SDL_CreateRGBSurfaceFrom(\n",
    "        render, \n",
    "        camera.screen_res..., \n",
    "        depth, pitch, \n",
    "        0xFF0000, 0x00FF00, 0x0000FF, 0)\n",
    "    texture = SDL.SDL_CreateTextureFromSurface(renderer, surface)\n",
    "    SDL.SDL_RenderCopy(renderer, texture, SDL.C_NULL, SDL.C_NULL)\n",
    "    SDL.SDL_DestroyTexture(texture)\n",
    "    SDL.SDL_RenderPresent(renderer)\n",
    "    return nothing\n",
    "end"
   ]
  },
  {
   "cell_type": "code",
   "execution_count": 21,
   "metadata": {},
   "outputs": [
    {
     "data": {
      "text/plain": [
       "get_Δt! (generic function with 1 method)"
      ]
     },
     "metadata": {},
     "output_type": "display_data"
    }
   ],
   "source": [
    "mutable struct Dtimer\n",
    "    t::Float64\n",
    "    Dtimer() = new(0.0)\n",
    "end\n",
    "\n",
    "function start!(dtimer::Dtimer)::Nothing\n",
    "    dtimer.t = time_ns()/1e9\n",
    "    return nothing\n",
    "end\n",
    "\n",
    "function get_Δt!(dtimer::Dtimer)::Float64\n",
    "    t = time_ns()/1e9\n",
    "    Δt = t - dtimer.t\n",
    "    dtimer.t = t\n",
    "    return Δt\n",
    "end"
   ]
  },
  {
   "cell_type": "code",
   "execution_count": 22,
   "metadata": {},
   "outputs": [
    {
     "data": {
      "text/plain": [
       "main (generic function with 1 method)"
      ]
     },
     "metadata": {},
     "output_type": "display_data"
    }
   ],
   "source": [
    "function main()::Nothing\n",
    "    SDL.SDL_Init(SDL.SDL_INIT_VIDEO)\n",
    "\n",
    "    window_name = \"Cube viewer\"\n",
    "    window_resizable = false\n",
    "\n",
    "    window = SDL.SDL_CreateWindow(\n",
    "        window_name, \n",
    "        SDL.SDL_WINDOWPOS_CENTERED, \n",
    "        SDL.SDL_WINDOWPOS_CENTERED, \n",
    "        camera.screen_res...,\n",
    "        SDL.SDL_WINDOW_SHOWN)\n",
    "    SDL.SDL_SetWindowResizable(window, window_resizable)\n",
    "\n",
    "    renderer = SDL.SDL_CreateRenderer(window, -1, \n",
    "        SDL.SDL_RENDERER_ACCELERATED | SDL.SDL_RENDERER_PRESENTVSYNC)\n",
    "\n",
    "    θ = π/4\n",
    "    ϕ = 3π/8\n",
    "    dθ = 0.0\n",
    "    dϕ = 0.0\n",
    "    dist = 10.0\n",
    "    close = false\n",
    "    dtimer = Dtimer()\n",
    "\n",
    "    set_render!(renderer, dist, θ, ϕ)\n",
    "    start!(dtimer)\n",
    "\n",
    "    try\n",
    "        while !close\n",
    "            event_ref = Ref{SDL.SDL_Event}()\n",
    "            Δt = get_Δt!(dtimer)\n",
    "            while Bool(SDL.SDL_PollEvent(event_ref))\n",
    "                event = event_ref[]\n",
    "                event_type = event.type\n",
    "                if event_type == SDL.SDL_QUIT\n",
    "                    close = true\n",
    "                    break\n",
    "                elseif event_type == SDL.SDL_KEYDOWN\n",
    "                    scan_code = event.key.keysym.scancode \n",
    "                    if scan_code == SDL.SDL_SCANCODE_RIGHT\n",
    "                        dθ += 0.5*Δt\n",
    "                    elseif scan_code == SDL.SDL_SCANCODE_LEFT\n",
    "                        dθ -= 0.5*Δt\n",
    "                    end\n",
    "                end\n",
    "            end\n",
    "            θ += dθ * Δt\n",
    "            ϕ += dϕ * Δt\n",
    "            set_render!(renderer, dist, θ, ϕ)\n",
    "        end\n",
    "    catch y\n",
    "        println(y)\n",
    "    finally\n",
    "        SDL.SDL_DestroyRenderer(renderer)\n",
    "        SDL.SDL_DestroyWindow(window)\n",
    "        SDL.SDL_Quit()\n",
    "    end\n",
    "    return nothing\n",
    "end"
   ]
  },
  {
   "cell_type": "code",
   "execution_count": 23,
   "metadata": {},
   "outputs": [],
   "source": [
    "main()"
   ]
  }
 ],
 "metadata": {
  "kernelspec": {
   "display_name": "Julia 1.9.3",
   "language": "julia",
   "name": "julia-1.9"
  },
  "language_info": {
   "file_extension": ".jl",
   "mimetype": "application/julia",
   "name": "julia",
   "version": "1.9.3"
  }
 },
 "nbformat": 4,
 "nbformat_minor": 2
}

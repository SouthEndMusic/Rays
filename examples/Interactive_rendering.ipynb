{
 "cells": [
  {
   "cell_type": "code",
   "execution_count": 1,
   "metadata": {},
   "outputs": [],
   "source": [
    "using Rays\n",
    "using Gtk"
   ]
  },
  {
   "cell_type": "markdown",
   "metadata": {},
   "source": [
    "# Using `Gtk.jl`"
   ]
  },
  {
   "cell_type": "markdown",
   "metadata": {},
   "source": [
    "### Define a function which produces a render for a given state"
   ]
  },
  {
   "cell_type": "code",
   "execution_count": 2,
   "metadata": {},
   "outputs": [
    {
     "data": {
      "text/plain": [
       "get_render (generic function with 1 method)"
      ]
     },
     "metadata": {},
     "output_type": "display_data"
    }
   ],
   "source": [
    "using LinearAlgebra: normalize!\n",
    "\n",
    "# Define a camera\n",
    "camera = Rays.Camera()\n",
    "camera.screen_res .= [500, 500]\n",
    "\n",
    "# Let the camera look towards the origin\n",
    "from = Float32[2.0, 2.0, 2.0]\n",
    "to = zeros(Float32, 3)\n",
    "Rays.look_at!(camera, from, to)\n",
    "\n",
    "# Define a cube at the origin\n",
    "cube = Rays.Cube(zeros(Float32, 3), 1.0f0)\n",
    "\n",
    "# Color data\n",
    "data_variables = [:dim]\n",
    "julia_green = Float32[0.22, 0.596, 0.149]\n",
    "julia_purple = Float32[0.584, 0.345, 0.698]\n",
    "julia_red = Float32[0.796, 0.235, 0.2]\n",
    "julia_colors = hcat(julia_green, julia_purple, julia_red)\n",
    "color = Rays.get_canvas(camera; color = true)\n",
    "\n",
    "function get_render(dist, θ, ϕ)::Array{<:AbstractFloat, 3}\n",
    "\n",
    "    # Adjust camera\n",
    "    Rays.look_at!(camera, zeros(Float32,3), dist, θ, ϕ)\n",
    "\n",
    "    # Get intersection data\n",
    "    intersection_data = Rays.shape_view(camera, cube; data_variables)\n",
    "\n",
    "    # Get grayscale image\n",
    "    canvas_grayscale = Rays.cam_is_source(intersection_data.t);\n",
    "\n",
    "    # Apply color to the image\n",
    "    color .= 0.0\n",
    "    Rays.add_color!(color, julia_colors, intersection_data.dim)\n",
    "    canvas_color = Rays.apply_color(canvas_grayscale, color);\n",
    "\n",
    "    return canvas_color\n",
    "end "
   ]
  },
  {
   "cell_type": "markdown",
   "metadata": {},
   "source": [
    "### Define a callback function for the Gtk window"
   ]
  },
  {
   "cell_type": "code",
   "execution_count": 3,
   "metadata": {},
   "outputs": [
    {
     "data": {
      "text/plain": [
       "callback (generic function with 1 method)"
      ]
     },
     "metadata": {},
     "output_type": "display_data"
    }
   ],
   "source": [
    "function callback(widget, event)\n",
    "    if Char(event.keyval) == 'd'\n",
    "        dist -= 0.1\n",
    "        get_render(dist, θ, ϕ)\n",
    "    end\n",
    "    return nothing\n",
    "end"
   ]
  },
  {
   "cell_type": "code",
   "execution_count": 4,
   "metadata": {},
   "outputs": [
    {
     "data": {
      "text/plain": [
       "rgb_to_pixbuf (generic function with 1 method)"
      ]
     },
     "metadata": {},
     "output_type": "display_data"
    }
   ],
   "source": [
    "function rgb_to_pixbuf(img_rgb::AbstractArray{<:AbstractFloat,3})\n",
    "    (h, w) = size(img_rgb)[2:3]\n",
    "    data = Array{Gtk.RGB}(undef, h, w)\n",
    "    for j in 1:h, i in 1:w\n",
    "        data[j, i] = Gtk.RGB(\n",
    "            convert(UInt8,round(255*img_rgb[1, i, j])),\n",
    "            convert(UInt8,round(255*img_rgb[2, i, j])),\n",
    "            convert(UInt8,round(255*img_rgb[3, i, j]))\n",
    "        )\n",
    "    end\n",
    "    return GdkPixbuf(data=data, has_alpha=false)\n",
    "end"
   ]
  },
  {
   "cell_type": "code",
   "execution_count": 5,
   "metadata": {},
   "outputs": [
    {
     "data": {
      "text/plain": [
       "GtkWindowLeaf(name=\"\", parent, width-request=-1, height-request=-1, visible=TRUE, sensitive=TRUE, app-paintable=FALSE, can-focus=FALSE, has-focus=FALSE, is-focus=FALSE, focus-on-click=TRUE, can-default=FALSE, has-default=FALSE, receives-default=FALSE, composite-child=FALSE, style, events=0, no-show-all=FALSE, has-tooltip=FALSE, tooltip-markup=NULL, tooltip-text=NULL, window, opacity=1.000000, double-buffered, halign=GTK_ALIGN_FILL, valign=GTK_ALIGN_FILL, margin-left, margin-right, margin-start=0, margin-end=0, margin-top=0, margin-bottom=0, margin=0, hexpand=FALSE, vexpand=FALSE, hexpand-set=FALSE, vexpand-set=FALSE, expand=FALSE, scale-factor=1, border-width=0, resize-mode, child, type=GTK_WINDOW_TOPLEVEL, title=\"Cube view\", role=NULL, resizable=TRUE, modal=FALSE, window-position=GTK_WIN_POS_NONE, default-width=500, default-height=500, destroy-with-parent=FALSE, hide-titlebar-when-maximized=FALSE, icon, icon-name=NULL, screen, type-hint=GDK_WINDOW_TYPE_HINT_NORMAL, skip-taskbar-hint=FALSE, skip-pager-hint=FALSE, urgency-hint=FALSE, accept-focus=TRUE, focus-on-map=TRUE, decorated=TRUE, deletable=TRUE, gravity=GDK_GRAVITY_NORTH_WEST, transient-for, attached-to, has-resize-grip, resize-grip-visible, application, is-active=TRUE, has-toplevel-focus=TRUE, startup-id, mnemonics-visible=FALSE, focus-visible=FALSE, is-maximized=FALSE)"
      ]
     },
     "metadata": {},
     "output_type": "display_data"
    }
   ],
   "source": [
    "win = GtkWindow(\"Cube view\", camera.screen_res[2], camera.screen_res[1])\n",
    "signal_connect(callback, win, \"key_press_event\")\n",
    "θ = π/4\n",
    "ϕ = 3π/8\n",
    "dist = 10.0\n",
    "\n",
    "canvas_color = get_render(dist, θ, ϕ)\n",
    "pixbuf = rgb_to_pixbuf(canvas_color)\n",
    "image_widget = Gtk.Image(pixbuf)\n",
    "push!(win, image_widget)\n",
    "showall(win)"
   ]
  }
 ],
 "metadata": {
  "kernelspec": {
   "display_name": "Julia 1.9.3",
   "language": "julia",
   "name": "julia-1.9"
  },
  "language_info": {
   "file_extension": ".jl",
   "mimetype": "application/julia",
   "name": "julia",
   "version": "1.9.3"
  },
  "orig_nbformat": 4
 },
 "nbformat": 4,
 "nbformat_minor": 2
}

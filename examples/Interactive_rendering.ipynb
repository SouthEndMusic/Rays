{
 "cells": [
  {
   "cell_type": "code",
   "execution_count": null,
   "metadata": {},
   "outputs": [],
   "source": [
    "using Rays"
   ]
  },
  {
   "cell_type": "markdown",
   "metadata": {},
   "source": [
    "## Creating a scene"
   ]
  },
  {
   "cell_type": "code",
   "execution_count": null,
   "metadata": {},
   "outputs": [],
   "source": [
    "# Define the scene\n",
    "scene = Rays.Scene()\n",
    "\n",
    "# Define a camera\n",
    "camera = Rays.Camera(; screen_res = [500, 500], intersection_data_variables = [:dim])\n",
    "push!(scene, camera)\n",
    "\n",
    "# Define a Menger sponge at the origin\n",
    "menger_sponge = Rays.menger_sponge(zeros(Float32, 3), 1.0f0, 3)\n",
    "push!(scene, menger_sponge)"
   ]
  },
  {
   "cell_type": "markdown",
   "metadata": {},
   "source": [
    "## Creating a parameters object"
   ]
  },
  {
   "cell_type": "code",
   "execution_count": null,
   "metadata": {},
   "outputs": [],
   "source": [
    "julia_green = Float32[0.22, 0.596, 0.149]\n",
    "julia_purple = Float32[0.584, 0.345, 0.698]\n",
    "julia_red = Float32[0.796, 0.235, 0.2]\n",
    "julia_colors = hcat(julia_green, julia_purple, julia_red)\n",
    "\n",
    "mutable struct Params{F} <: Rays.Parameters{F}\n",
    "    θ::F\n",
    "    ϕ::F\n",
    "    dθ::F\n",
    "    dist::F\n",
    "    colors::Matrix{F}\n",
    "end\n",
    "\n",
    "params = Params(Float32(π/4), Float32(3π/8), 0.0f0, 5.0f0, julia_colors)"
   ]
  },
  {
   "cell_type": "markdown",
   "metadata": {},
   "source": [
    "## Creating parameter update functions"
   ]
  },
  {
   "cell_type": "code",
   "execution_count": null,
   "metadata": {},
   "outputs": [],
   "source": [
    "import SimpleDirectMediaLayer as SDL\n",
    "using SimpleDirectMediaLayer.LibSDL2\n",
    "\n",
    "\"\"\"\n",
    "Actions:\n",
    "- Change the horizontal rotation speed dθ (left/right keys)\n",
    "- Change the vertical position of the camera given by ϕ (up/down)\n",
    "\"\"\"\n",
    "function affect_parameters_input!(params::Params{F}, event::SDL_Event, Δt::F)::Bool where {F}\n",
    "    parameters_changed = false\n",
    "    event_type = event.type\n",
    "\n",
    "    if event_type == SDL.SDL_KEYDOWN\n",
    "        scan_code = event.key.keysym.scancode \n",
    "        if scan_code == SDL.SDL_SCANCODE_RIGHT\n",
    "            params.dθ += 2*Δt\n",
    "            parameters_changed = true\n",
    "        elseif scan_code == SDL.SDL_SCANCODE_LEFT\n",
    "            params.dθ -= 2*Δt\n",
    "            parameters_changed = true\n",
    "        elseif scan_code == SDL.SDL_SCANCODE_UP\n",
    "            params.ϕ = max(params.ϕ - Δt, 1e-3)\n",
    "            parameters_changed = true\n",
    "        elseif scan_code == SDL.SDL_SCANCODE_DOWN\n",
    "            params.ϕ = min(params.ϕ + Δt, π-1e-3)\n",
    "            parameters_changed = true\n",
    "        end\n",
    "    end\n",
    "    return parameters_changed\n",
    "end\n",
    "\n",
    "function affect_parameters_time!(params::Params{F}, Δt::F)::Bool where {F}\n",
    "    params.θ += params.dθ * Δt\n",
    "    return true\n",
    "end"
   ]
  },
  {
   "cell_type": "markdown",
   "metadata": {},
   "source": [
    "## Creating a rendering function"
   ]
  },
  {
   "cell_type": "code",
   "execution_count": null,
   "metadata": {},
   "outputs": [],
   "source": [
    "function get_render(scene::Rays.Scene{F}, params::Rays.Parameters{F})::Array{F, 3} where {F <: AbstractFloat}\n",
    "\n",
    "    cam = scene.cameras[:camera]\n",
    "\n",
    "    # Adjust camera\n",
    "    Rays.look_at!(cam, zeros(Float32,3), params.dist, params.θ, params.ϕ)\n",
    "\n",
    "    # Get intersection data\n",
    "    Rays.shape_view!(scene)\n",
    "\n",
    "    # Get grayscale image\n",
    "    Rays.cam_is_source!(cam, dropoff_curve = x -> clamp(4.0-x/1.4, 0.0, 1.0));\n",
    "\n",
    "    # Apply color to the image\n",
    "    Rays.get_color!(cam, :dim, params.colors)\n",
    "    Rays.apply_color!(cam)\n",
    "\n",
    "    return cam.canvas_color\n",
    "end "
   ]
  },
  {
   "cell_type": "markdown",
   "metadata": {},
   "source": [
    "## Creating and running interactor"
   ]
  },
  {
   "cell_type": "code",
   "execution_count": null,
   "metadata": {},
   "outputs": [],
   "source": [
    "interactor = Rays.Interactor(scene, params, affect_parameters_input!, affect_parameters_time!, get_render);"
   ]
  },
  {
   "cell_type": "code",
   "execution_count": null,
   "metadata": {},
   "outputs": [],
   "source": [
    "Rays.run!(interactor)"
   ]
  }
 ],
 "metadata": {
  "kernelspec": {
   "display_name": "Julia 1.9.3",
   "language": "julia",
   "name": "julia-1.9"
  },
  "language_info": {
   "file_extension": ".jl",
   "mimetype": "application/julia",
   "name": "julia",
   "version": "1.9.3"
  }
 },
 "nbformat": 4,
 "nbformat_minor": 2
}
